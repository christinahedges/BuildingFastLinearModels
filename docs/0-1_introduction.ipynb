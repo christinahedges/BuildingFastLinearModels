{
 "cells": [
  {
   "cell_type": "markdown",
   "id": "e14f8ea3-f062-4191-b4b6-f786406ec66a",
   "metadata": {},
   "source": [
    "# Introduction\n",
    "\n",
    "Christina Hedges, 2022\n",
    "\n",
    "**What is this?**\n",
    "\n",
    "There's lots of information online and in text books about linear algebra. This is a collection of that information with context that's quite specific to astronomy, meaning that we're going to be building towards explorations of real data, how to build models for actual problems, and discussing how some published noise models in astronomy work. Fitting linear models is how I do any low-grade 'magic' in astronomy, so I want to put some thoughts down to enable other people to do the same.\n",
    "\n",
    "In astronomy data we often have multiple signals both from our astrophysical objects of interest and some systematic noise terms. We might be looking at\n",
    "\n",
    "- 1D time series data\n",
    "- 2D imaging data\n",
    "- 3D data of images over time\n",
    "- Higher dimensional data from catalogs\n",
    "\n",
    "And we frequently want to remove some **systematics**, to get our best understanding of the truth. \"Systematics\" is an astronomy catch-all term that might mean something like\n",
    "\n",
    "- A systematic offset in image frames due to sky background\n",
    "- A systematic and predictable signal in our time-series data due to thermal changes in an instrument\n",
    "- A systematic increase in brightness in a spectrum at the faint end\n",
    "\n",
    "And many others.\n",
    "\n",
    "So how do we get the true flux of a star in an image with a systematic brightness? How do we detrend our noisy time series to remove the impact of thermal changes and preserve the true signal? How do we get accurate spectra?\n",
    "\n",
    "And, crucially, how do we do it fast.\n",
    "\n",
    "We're going to have to come up with some **model** for our data. This means modeling our systematics, and any astrophysical signal that's in our data, at the same time. We're going to do this with a **linear model**."
   ]
  },
  {
   "cell_type": "markdown",
   "id": "18d9d699-d7e8-4106-8fd5-0fe5182d4fad",
   "metadata": {},
   "source": [
    "<div class=\"admonition tip\">\n",
    "<p class=\"admonition-title\">Resources you might find useful</p>\n",
    "    <p><a href=\"https://pythonnumericalmethods.berkeley.edu/notebooks/chapter14.00-Linear-Algebra-and-Systems-of-Linear-Equations.html\">Python Programming And Numerical Methods: A Guide For Engineers And Scientists</a> has an excellent chapter on linear algebra. You might want to start here, and then check that out, or you might want to start there and come back here.</p>\n",
    "</div>"
   ]
  },
  {
   "cell_type": "markdown",
   "id": "37a8a542-0c88-4c57-b047-18c3e495d61b",
   "metadata": {},
   "source": [
    "### Conventions\n",
    "\n",
    "We're going to dive into some mathematical representations here so I'm going to write down some examples of our conventions\n",
    "\n",
    "The font face will be used to express variables as:\n",
    "\n",
    "- $a$ : Lowercase italics are a single numeric value\n",
    "- $\\mathbf a$: Lowercase bold are vectors\n",
    "- $\\mathbf A$: Uppercase bold are matrices\n",
    "\n",
    "I'm going to use this convention a lot in this document, so make sure you look out for this in what follows!\n",
    "\n",
    "We'll try to follow this convention as much as possible in Python. Unfortunately we can't bold variables, so we'll use the slightly modified:\n",
    "\n",
    "```python\n",
    "# lowercase letter and a number, single valued variable\n",
    "a0 = 1.1\n",
    "# lowercase letter, vector\n",
    "a = [0, 0, 0, 0.1, 0, 0]\n",
    "# uppercase letter, matrix\n",
    "A = [[0, 0, 1], [0, 1, 0], [1, 0, 0]]\n",
    "```\n",
    "\n"
   ]
  },
  {
   "cell_type": "markdown",
   "id": "596e2cb7-126b-4662-b6f2-8c2414e8943e",
   "metadata": {},
   "source": [
    "<div class=\"admonition\">\n",
    "<p class=\"admonition-title\">The Take Aways</p>\n",
    "    <p> In these notebooks, I'll add some notes at the bottom which are the key \"take away's\" you should pick up from each section. </p>\n",
    "</div>"
   ]
  }
 ],
 "metadata": {
  "kernelspec": {
   "display_name": "Python 3 (ipykernel)",
   "language": "python",
   "name": "python3"
  },
  "language_info": {
   "codemirror_mode": {
    "name": "ipython",
    "version": 3
   },
   "file_extension": ".py",
   "mimetype": "text/x-python",
   "name": "python",
   "nbconvert_exporter": "python",
   "pygments_lexer": "ipython3",
   "version": "3.9.13"
  }
 },
 "nbformat": 4,
 "nbformat_minor": 5
}
