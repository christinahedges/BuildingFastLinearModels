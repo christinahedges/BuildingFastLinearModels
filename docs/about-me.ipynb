{
 "cells": [
  {
   "cell_type": "markdown",
   "id": "9a63af10-2664-4960-b133-d3b7bf576159",
   "metadata": {
    "tags": []
   },
   "source": [
    "# About Me\n",
    "\n",
    "I'm a scientist at the NASA Goddard Space Flight Center in Maryland, USA. I am the Deputy Director of the [TESS GI Office](https://heasarc.gsfc.nasa.gov/docs/tess/), and the lead pipeline scientist for the upcoming [Pandora mission](https://pandoramission.github.io/pandorawebsite/). Before this, I used to work for the Kepler/K2 mission as a support scientist. I'm also a reseacher, and I spend my time discovering and characterizing exoplanets, and understanding data from NASA's space telescopes. \n",
    "\n",
    "I am very interested in astronomical data processing, and how to build simple models to help us understand the universe, which is why I wrote these materials. Everything here is a distilation of my workflow to use astronomical data. \n",
    "\n",
    "I have some other work, you can see some of my scientific publications [here](https://ui.adsabs.harvard.edu/search/q=%20%20author%3A%22%5EHedges%2C%20Christina%22&sort=date%20desc%2C%20bibcode%20desc&p_=0), and I have some Opinions about how to write open source tools in astronomy, which you can read about in my [Astronomy Workflow tutorial](https://christinahedges.github.io/astronomy_workflow/) page.\n",
    "\n",
    "## Contact\n",
    "\n",
    "If you're interested to get in touch to understand more about TESS data, I recommend you reach out to the TESS GI helpdesk at [tesshelp@bigbang.gsfc.nasa.gov](tesshelp@bigbang.gsfc.nasa.gov). If you want to contact me directly, you can email me at christina.l.hedges@nasa.gov.\n",
    "\n",
    "If you find an error, please [open an issue](https://github.com/christinahedges/BuildingFastLinearModels/issues/new) on the github repository for these materials.\n",
    "\n",
    "## Acknowledge or Cite\n",
    "\n",
    "I'm not sure the best way to acknowledge or cite these materials if you find them useful. If you think you're using these materials and need to cite them, please get in touch! If you are reproducing these materials in anyway, please don't forget to [read the terms of the license](https://github.com/christinahedges/BuildingFastLinearModels/blob/main/LICENSE)."
   ]
  }
 ],
 "metadata": {
  "kernelspec": {
   "display_name": "Python 3 (ipykernel)",
   "language": "python",
   "name": "python3"
  },
  "language_info": {
   "codemirror_mode": {
    "name": "ipython",
    "version": 3
   },
   "file_extension": ".py",
   "mimetype": "text/x-python",
   "name": "python",
   "nbconvert_exporter": "python",
   "pygments_lexer": "ipython3",
   "version": "3.9.13"
  }
 },
 "nbformat": 4,
 "nbformat_minor": 5
}
