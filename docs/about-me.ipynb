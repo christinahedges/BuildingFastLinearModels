{
 "cells": [
  {
   "cell_type": "markdown",
   "id": "dbaa413b-085f-4754-9284-df3d9b38226e",
   "metadata": {},
   "source": [
    "# About Me"
   ]
  },
  {
   "cell_type": "code",
   "execution_count": null,
   "id": "2e78006d-7fff-4a1b-9f78-02033b0657ac",
   "metadata": {},
   "outputs": [],
   "source": []
  },
  {
   "cell_type": "markdown",
   "id": "99eb9535-c5b9-41ae-863d-4f241d2bfaf7",
   "metadata": {},
   "source": [
    "## Contact"
   ]
  },
  {
   "cell_type": "code",
   "execution_count": null,
   "id": "9c31fb74-4139-44fe-a8d2-7dfe4a72cbcc",
   "metadata": {},
   "outputs": [],
   "source": []
  },
  {
   "cell_type": "markdown",
   "id": "6e20e05b-1ff5-40bd-9c50-7b6ddf24483c",
   "metadata": {},
   "source": [
    "## Acknowledge or Cite"
   ]
  },
  {
   "cell_type": "code",
   "execution_count": null,
   "id": "89b6f3e0-ee5c-424e-995a-2d321cf8734d",
   "metadata": {},
   "outputs": [],
   "source": []
  }
 ],
 "metadata": {
  "kernelspec": {
   "display_name": "Python 3 (ipykernel)",
   "language": "python",
   "name": "python3"
  },
  "language_info": {
   "codemirror_mode": {
    "name": "ipython",
    "version": 3
   },
   "file_extension": ".py",
   "mimetype": "text/x-python",
   "name": "python",
   "nbconvert_exporter": "python",
   "pygments_lexer": "ipython3",
   "version": "3.9.13"
  }
 },
 "nbformat": 4,
 "nbformat_minor": 5
}
