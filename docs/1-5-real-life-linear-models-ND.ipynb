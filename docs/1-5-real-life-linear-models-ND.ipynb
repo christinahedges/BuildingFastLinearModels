{
 "cells": [
  {
   "cell_type": "code",
   "execution_count": 1,
   "id": "3ab7ece4-ed9b-4039-bb88-5636ba558ed6",
   "metadata": {},
   "outputs": [],
   "source": [
    "# Higher dimensional models"
   ]
  },
  {
   "cell_type": "code",
   "execution_count": null,
   "id": "618a5b34-f1b7-44ba-b624-de2aee502359",
   "metadata": {},
   "outputs": [],
   "source": []
  }
 ],
 "metadata": {
  "kernelspec": {
   "display_name": "Python 3 (ipykernel)",
   "language": "python",
   "name": "python3"
  },
  "language_info": {
   "codemirror_mode": {
    "name": "ipython",
    "version": 3
   },
   "file_extension": ".py",
   "mimetype": "text/x-python",
   "name": "python",
   "nbconvert_exporter": "python",
   "pygments_lexer": "ipython3",
   "version": "3.9.13"
  }
 },
 "nbformat": 4,
 "nbformat_minor": 5
}
