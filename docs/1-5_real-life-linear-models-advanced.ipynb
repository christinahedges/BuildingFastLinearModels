{
 "cells": [
  {
   "cell_type": "code",
   "execution_count": 1,
   "id": "6bf79507-ed54-469a-ab0b-a36b868f7eab",
   "metadata": {},
   "outputs": [],
   "source": [
    "# Some K2 models for systematics"
   ]
  },
  {
   "cell_type": "code",
   "execution_count": null,
   "id": "bcba5dc4-8d3a-4938-883e-e89bcd92758e",
   "metadata": {},
   "outputs": [],
   "source": []
  }
 ],
 "metadata": {
  "kernelspec": {
   "display_name": "Python 3 (ipykernel)",
   "language": "python",
   "name": "python3"
  },
  "language_info": {
   "codemirror_mode": {
    "name": "ipython",
    "version": 3
   },
   "file_extension": ".py",
   "mimetype": "text/x-python",
   "name": "python",
   "nbconvert_exporter": "python",
   "pygments_lexer": "ipython3",
   "version": "3.9.13"
  }
 },
 "nbformat": 4,
 "nbformat_minor": 5
}
