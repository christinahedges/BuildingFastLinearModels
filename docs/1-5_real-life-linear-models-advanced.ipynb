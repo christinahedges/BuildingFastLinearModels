{
 "cells": [
  {
   "cell_type": "markdown",
   "id": "c5d7e8d3-93cd-4ce2-bd65-f35b670ca479",
   "metadata": {},
   "source": [
    "# 1.5 Detrending Systematics in Real Life Linear Models\n",
    "\n",
    "We've had a look at building some fairly intuitive models so far, let's look now at detrending. Detrending is"
   ]
  },
  {
   "cell_type": "code",
   "execution_count": null,
   "id": "bcba5dc4-8d3a-4938-883e-e89bcd92758e",
   "metadata": {},
   "outputs": [],
   "source": []
  }
 ],
 "metadata": {
  "kernelspec": {
   "display_name": "Python 3 (ipykernel)",
   "language": "python",
   "name": "python3"
  },
  "language_info": {
   "codemirror_mode": {
    "name": "ipython",
    "version": 3
   },
   "file_extension": ".py",
   "mimetype": "text/x-python",
   "name": "python",
   "nbconvert_exporter": "python",
   "pygments_lexer": "ipython3",
   "version": "3.9.13"
  }
 },
 "nbformat": 4,
 "nbformat_minor": 5
}
