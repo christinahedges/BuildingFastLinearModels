{
 "cells": [
  {
   "cell_type": "markdown",
   "id": "3307a702-7878-4622-b4d9-ed2351f23150",
   "metadata": {},
   "source": [
    "# Adding noise to our model: Weighted Least Squares regression\n",
    "\n",
    "Noise is important in our applications. Sometimes I have measurements of stellar flux from different telescopes, or different times and I know they have different noise properties. Sometimes I have spectra that are noisier at particular wavelengths. It's important to be able to fold that information into our model. Let's start down this path.\n",
    "\n",
    "Let's make our dataset again, but this time, let's add some noisier data. This might happen because of some measurement error."
   ]
  },
  {
   "cell_type": "code",
   "execution_count": 73,
   "id": "801a0f81-8f93-437b-97df-5a2ebcfe2069",
   "metadata": {},
   "outputs": [
    {
     "data": {
      "text/plain": [
       "[Text(0.5, 0, 'x'), Text(0, 0.5, 'data'), Text(0.5, 1.0, 'Fake Data')]"
      ]
     },
     "execution_count": 73,
     "metadata": {},
     "output_type": "execute_result"
    },
    {
     "data": {
      "image/png": "[encoded data removed]",
      "text/plain": [
       "<Figure size 432x288 with 1 Axes>"
      ]
     },
     "metadata": {},
     "output_type": "display_data"
    }
   ],
   "source": [
    "import numpy as np\n",
    "import matplotlib.pyplot as plt\n",
    "plt.style.use('seaborn-white')\n",
    "\n",
    "n = 20 # the number of data points\n",
    "m = 4 # the order of our polynomial\n",
    "x = np.linspace(-1, 1, n)\n",
    "A = np.vstack([x**idx for idx in range(m)]).T\n",
    "\n",
    "# In this step, I'm going to make some fake data for us to fit\n",
    "true_w = np.random.normal(size=m)\n",
    "data = A.dot(true_w) + np.random.normal(0, 0.1, size=x.shape[0])\n",
    "error = np.ones(x.shape[0]) * 0.1\n",
    "\n",
    "bad_idx = np.random.choice(np.arange(n), 1)\n",
    "data[bad_idx] += np.random.normal(0, 5, size=1)\n",
    "error[bad_idx] += 5\n",
    "\n",
    "fig, ax = plt.subplots()\n",
    "plt.errorbar(x, data, error, c='k', ls='')\n",
    "ax.set(xlabel='x', ylabel='data', title='Fake Data')"
   ]
  },
  {
   "cell_type": "markdown",
   "id": "e766fdd3-00f1-4246-b474-c6c4454b71b7",
   "metadata": {},
   "source": [
    "**Note:** In this scenario, you **know** the noise for each data point. And you **know** the errors on those outlier datapoints. We'll touch on this again soon.\n",
    "\n",
    "If we use OLS regression, which doesn't take into account these measurement errors, we're now going to get the wrong answer."
   ]
  },
  {
   "cell_type": "code",
   "execution_count": 74,
   "id": "6b7a3336-7c56-4b47-87a9-e8cef9db6b80",
   "metadata": {},
   "outputs": [
    {
     "data": {
      "text/plain": [
       "<matplotlib.legend.Legend at 0x1257bed90>"
      ]
     },
     "execution_count": 74,
     "metadata": {},
     "output_type": "execute_result"
    },
    {
     "data": {
      "image/png": "[encoded data removed]",
      "text/plain": [
       "<Figure size 432x288 with 1 Axes>"
      ]
     },
     "metadata": {},
     "output_type": "display_data"
    }
   ],
   "source": [
    "fig, ax = plt.subplots()\n",
    "ax.errorbar(x, data, error, ls='', c='k', label='measured data')\n",
    "ax.set(xlabel='x', ylabel='data')\n",
    "best_fitting_w = np.linalg.solve(A.T.dot(A), A.T.dot(data))\n",
    "# Best fitting weights:\n",
    "plt.plot(x, A.dot(best_fitting_w), color='C2', label='Best Fitting Model', lw=2, zorder=-1)\n",
    "plt.legend()"
   ]
  },
  {
   "cell_type": "markdown",
   "id": "c90f5b51-c9a7-4821-961e-b09f7af40bc1",
   "metadata": {},
   "source": [
    "In the above example, we have a dataset with lots of well estimated datapoints (small errors) and one large outlier with a huge uncertainty. That one outlier (which we know to have a larger uncertainty) is pulling our solution to one side, because all the points have equal weights.\n",
    "\n",
    "Instead of weighting all the points equally, we can instead have the weight of each point be given by our uncertainty in that measurement. We're going to weight each point by the inverse variance. We assume here that the \"errors\" reported with our data are the standard deviation, so the inverse variance for the $i$th point is $\\frac{1}{\\sigma_i^2}$. Weighting our cost function from the OLS derivation above, we can find a new cost function:"
   ]
  },
  {
   "cell_type": "markdown",
   "id": "12f1486d-403b-4008-bdc7-26e1ed30e4d2",
   "metadata": {},
   "source": [
    "$J(\\boldsymbol \\theta) = \\frac{1}{2n}\\sum_{i=1}^m \\frac{1}{\\sigma_i^2} (y_i$ - $h_\\theta(x_i))^2$\n"
   ]
  },
  {
   "cell_type": "code",
   "execution_count": null,
   "id": "4e85255d-8319-4f0a-9054-bf17daa65786",
   "metadata": {},
   "outputs": [],
   "source": []
  },
  {
   "cell_type": "markdown",
   "id": "8f421c82-d856-466f-8147-7ca710e5ecc6",
   "metadata": {},
   "source": [
    "# Adding more robust noise to the model: Generalized Least Squares regression \n",
    "\n",
    "We've already understood how to add something like measurement errors to our model, but this isn't the end of adding noise. Let's learn how to add the missing piece; covariance. But, to do that, we'll need to talk about what covariance is first.\n",
    "\n",
    "## Covariance\n",
    "\n",
    "Covariance is a measure of whether two variables \"vary\" together. Variables are \"covariant\" if they both go up or both go down at the same time. "
   ]
  },
  {
   "cell_type": "code",
   "execution_count": 13,
   "id": "f42d2ccd-deb0-4bb6-9a0d-68999c921f20",
   "metadata": {},
   "outputs": [],
   "source": [
    "a, b = np.random.normal(size=(2, 100))"
   ]
  },
  {
   "cell_type": "code",
   "execution_count": 14,
   "id": "a13757ce-a1e9-4b40-bb13-454b30e0bb90",
   "metadata": {},
   "outputs": [
    {
     "data": {
      "text/plain": [
       "[Text(0.5, 0, 'a'), Text(0, 0.5, 'b')]"
      ]
     },
     "execution_count": 14,
     "metadata": {},
     "output_type": "execute_result"
    },
    {
     "data": {
      "image/png": "[encoded data removed]",
      "text/plain": [
       "<Figure size 432x288 with 1 Axes>"
      ]
     },
     "metadata": {
      "needs_background": "light"
     },
     "output_type": "display_data"
    }
   ],
   "source": [
    "fig, ax = plt.subplots()\n",
    "plt.scatter(a, b, c='k', s=1)\n",
    "ax.set(xlabel='a', ylabel='b')"
   ]
  },
  {
   "cell_type": "markdown",
   "id": "3e6a68d1-686b-46b5-b09d-9270677a9b32",
   "metadata": {},
   "source": [
    "Covariance between two vectors $\\mathbf x$ and $\\mathbf y$ is given as\n",
    "\n",
    "$\\frac{1}{n}\\sum^n_{i=0}(x_i  - \\mathbf{\\hat{x}})(y_i  - \\mathbf{\\hat{y}})$\n",
    "\n",
    "where the hat symbol denotes the mean of the vector. If we look at the covariance for a and be we find a number very close to 0"
   ]
  },
  {
   "cell_type": "code",
   "execution_count": 15,
   "id": "fbc32e81-00fb-4535-a77c-613d641d75a0",
   "metadata": {},
   "outputs": [
    {
     "data": {
      "text/plain": [
       "0.12470598245769468"
      ]
     },
     "execution_count": 15,
     "metadata": {},
     "output_type": "execute_result"
    }
   ],
   "source": [
    "np.sum((a - np.mean(a)) * (b - np.mean(b)))/len(a)"
   ]
  },
  {
   "cell_type": "markdown",
   "id": "111985d3-6fa6-4e97-8424-97070bf7f95f",
   "metadata": {},
   "source": [
    "In other words, they aren't covariant. Let's make a vector that is covariant"
   ]
  },
  {
   "cell_type": "code",
   "execution_count": 16,
   "id": "a042f54f-5b96-493e-accb-6c5e521f56e7",
   "metadata": {},
   "outputs": [],
   "source": [
    "c = b + a * 1 + np.random.normal(size=(100))"
   ]
  },
  {
   "cell_type": "code",
   "execution_count": 17,
   "id": "cc13bbaf-83cc-472b-afd3-4a36a61aab24",
   "metadata": {},
   "outputs": [
    {
     "data": {
      "text/plain": [
       "[Text(0.5, 0, 'a'), Text(0, 0.5, 'c')]"
      ]
     },
     "execution_count": 17,
     "metadata": {},
     "output_type": "execute_result"
    },
    {
     "data": {
      "image/png": "[encoded data removed]",
      "text/plain": [
       "<Figure size 432x288 with 1 Axes>"
      ]
     },
     "metadata": {
      "needs_background": "light"
     },
     "output_type": "display_data"
    }
   ],
   "source": [
    "fig, ax = plt.subplots()\n",
    "plt.scatter(a, c, c='k', s=1)\n",
    "ax.set(xlabel='a', ylabel='c')"
   ]
  },
  {
   "cell_type": "markdown",
   "id": "98a56741-705d-4ec8-bbae-8e24b441d574",
   "metadata": {},
   "source": [
    "This time the covariance is a positive value much greater than 1, these are covariant vectors"
   ]
  },
  {
   "cell_type": "code",
   "execution_count": 18,
   "id": "64b0700a-c138-4367-a28f-ac40e5a4a2de",
   "metadata": {},
   "outputs": [
    {
     "data": {
      "text/plain": [
       "1.3641776341898577"
      ]
     },
     "execution_count": 18,
     "metadata": {},
     "output_type": "execute_result"
    }
   ],
   "source": [
    "np.sum((a - np.mean(a)) * (c - np.mean(c)))/len(a)"
   ]
  },
  {
   "cell_type": "markdown",
   "id": "4c2ef0b8-fcca-4600-90c4-5fae052f36ed",
   "metadata": {},
   "source": [
    "Note that the \"variance\" of a vector is the covariance of the vector with itself!"
   ]
  },
  {
   "cell_type": "markdown",
   "id": "2c3ca6f9-adbe-43a3-9ec9-3bf73d23d5b1",
   "metadata": {},
   "source": [
    "### Covariance Matrix\n",
    "\n",
    "In our case, we don't have just two vectors, we have a large number of vectors in our design matrix. If we want to know the covariance of each of our column vector regressors with each other, we can create a covariance matrix. "
   ]
  },
  {
   "cell_type": "code",
   "execution_count": 19,
   "id": "d6e939b0-800a-4443-8ff6-d3cc388bb793",
   "metadata": {},
   "outputs": [],
   "source": [
    "X = np.vstack([a, b, c]).T"
   ]
  },
  {
   "cell_type": "code",
   "execution_count": 20,
   "id": "e22961be-ab27-41e9-b221-16e8f10586d7",
   "metadata": {},
   "outputs": [],
   "source": [
    "cov = (X - X.mean(axis=0)).T.dot((X - X.mean(axis=0)))/X.shape[0]"
   ]
  },
  {
   "cell_type": "markdown",
   "id": "0530f6f9-3cc4-407f-86ce-173a03e8bcd0",
   "metadata": {},
   "source": [
    "This will take the form\n",
    "\n",
    "$\\begin{bmatrix}\n",
    "cov(a, a) &cov(a, b) &cov(a, c) \\\\\n",
    "cov(b, a) &cov(b, b) &cov(b, c) \\\\\n",
    "cov(c, a) &cov(c, b) &cov(c, c) \\\\\n",
    "\\end{bmatrix}$\n",
    "\n",
    "or another way\n",
    "\n",
    "$\\begin{bmatrix}\n",
    "var(a) &cov(a, b) &cov(a, c) \\\\\n",
    "cov(b, a) &var(b) &cov(b, c) \\\\\n",
    "cov(c, a) &cov(c, b) &var(c) \\\\\n",
    "\\end{bmatrix}$"
   ]
  },
  {
   "cell_type": "code",
   "execution_count": 21,
   "id": "72534318-fa51-4f15-89e4-6877dc4093d2",
   "metadata": {},
   "outputs": [
    {
     "data": {
      "text/plain": [
       "array([[1.14536886, 0.12470598, 1.36417763],\n",
       "       [0.12470598, 0.87748305, 0.85642741],\n",
       "       [1.36417763, 0.85642741, 3.06754659]])"
      ]
     },
     "execution_count": 21,
     "metadata": {},
     "output_type": "execute_result"
    }
   ],
   "source": [
    "cov"
   ]
  },
  {
   "cell_type": "markdown",
   "id": "b651914c-48ff-4e45-9cf9-34c2f9147c8f",
   "metadata": {},
   "source": [
    "You can see the variance of each vector in the diagonal, and the covariance of each vector pair in the off diagnoal terms."
   ]
  },
  {
   "cell_type": "markdown",
   "id": "28d7ff57-448b-4251-a43a-09229bba09ad",
   "metadata": {},
   "source": [
    "### What do these matrices mean...?\n",
    "\n",
    "Before we move on, let's just look at what different versions of this matrix would mean:\n",
    "\n",
    "A covariance matrix like this\n",
    "$\\begin{bmatrix}\n",
    "1 &0 &0 \\\\\n",
    "0 &1 &0 \\\\\n",
    "0 &0 &1 \\\\\n",
    "\\end{bmatrix}$\n",
    "\n",
    "means that the input vectors **are uncorrelated**, because the off diagonal terms are 0. The **variance** of the vectors are the same, because the diagonal values are all the same.\n",
    "\n",
    "A covariance matrix like this\n",
    "$\\begin{bmatrix}\n",
    "3 &0 &0 \\\\\n",
    "0 &1 &0 \\\\\n",
    "0 &0 &2 \\\\\n",
    "\\end{bmatrix}$\n",
    "\n",
    "means that the input vectors are uncorrelated and each vector has **different variance** because the diagonal terms are different. \n",
    "\n",
    "A covariance matrix like this\n",
    "$\\begin{bmatrix}\n",
    "1 &0.2 &0.3 \\\\\n",
    "0.2 &1 &0.4 \\\\\n",
    "0.3 &0.4 &1 \\\\\n",
    "\\end{bmatrix}$\n",
    "\n",
    "means that the vectors **are correlated**, and they have the same variance. "
   ]
  },
  {
   "cell_type": "markdown",
   "id": "d090d881-8b13-4631-b61d-bc2f7335def4",
   "metadata": {},
   "source": [
    "### Covariance with weights\n",
    "\n",
    "Frequently we have data with different weights. If we want to include errors in our covariance estimate, we can do so by weighting the covariance using those errors:\n",
    "\n",
    "$cov(\\mathbf x, \\mathbf y) = \\frac{1}{n}\\sum^n_{i=0}\\frac{(x_i  - \\mathbf{\\hat{x}})(y_i  - \\mathbf{\\hat{y}})}{\\sigma_{x_i}\\sigma_{y_i}}$\n",
    "\n",
    "where $\\sigma_{x_i}$ indicates the error on the $i$th element in the vector $\\mathbf x$."
   ]
  },
  {
   "cell_type": "markdown",
   "id": "2a72ef92-4e60-4a48-835e-ab32191e1616",
   "metadata": {},
   "source": [
    "Let's make our data again, and this time, let's add a few outliers with larger errors"
   ]
  },
  {
   "cell_type": "code",
   "execution_count": 22,
   "id": "eb261ef6-1f7c-4916-b809-c4b632dea950",
   "metadata": {},
   "outputs": [],
   "source": [
    "a, b = np.random.normal(0, 0.01, size=(2, 100))\n",
    "c = b + a * 0.5 + np.random.normal(0, 0.1, size=(100))\n",
    "bad_idx = np.random.choice(np.arange(100), 5)\n",
    "a[bad_idx] += np.random.normal(0, 0.2, size=5)\n",
    "b[bad_idx] += np.random.normal(0, 0.2, size=5)\n",
    "c[bad_idx] += np.random.normal(0, 0.2, size=5)\n",
    "err = np.ones(100) * 0.01\n",
    "err[bad_idx] = (0.2**2 + 0.01**2)**0.5"
   ]
  },
  {
   "cell_type": "markdown",
   "id": "e9738af0-b95b-4189-9b74-05557bb3ad3b",
   "metadata": {},
   "source": [
    "Now I've made similar variables as before, but this time I've added five points that have more noise in them."
   ]
  },
  {
   "cell_type": "code",
   "execution_count": 23,
   "id": "54a19472-27d2-407b-addb-c28c1f20866a",
   "metadata": {},
   "outputs": [
    {
     "data": {
      "text/plain": [
       "<ErrorbarContainer object of 3 artists>"
      ]
     },
     "execution_count": 23,
     "metadata": {},
     "output_type": "execute_result"
    },
    {
     "data": {
      "image/png": "[encoded data removed]",
      "text/plain": [
       "<Figure size 432x288 with 1 Axes>"
      ]
     },
     "metadata": {
      "needs_background": "light"
     },
     "output_type": "display_data"
    }
   ],
   "source": [
    "plt.errorbar(np.arange(100), a, err, ls='', c='k')"
   ]
  },
  {
   "cell_type": "code",
   "execution_count": 24,
   "id": "229291d3-2bd2-4017-83de-1e6b5d5ef461",
   "metadata": {},
   "outputs": [],
   "source": [
    "X = np.vstack([a, b, c]).T"
   ]
  },
  {
   "cell_type": "markdown",
   "id": "540432c0-30c5-4902-9c7c-9ed26a9965d4",
   "metadata": {},
   "source": [
    "If we assume the vectors all have equal errors we get the following covariance matrix"
   ]
  },
  {
   "cell_type": "code",
   "execution_count": 25,
   "id": "77fdc5dd-7be1-4e19-aa8b-57a070aebaa8",
   "metadata": {},
   "outputs": [],
   "source": [
    "cov = ((X - X.mean(axis=0))/0.01**2).T.dot(((X - X.mean(axis=0))/0.01**2))/X.shape[0]"
   ]
  },
  {
   "cell_type": "code",
   "execution_count": 26,
   "id": "f88f006f-2079-45e6-ad7a-a0c290a5bf2b",
   "metadata": {},
   "outputs": [
    {
     "data": {
      "text/plain": [
       "array([[  95783.88229264,   81337.25022426,  -70798.84665131],\n",
       "       [  81337.25022426,  235643.85831875,    8605.45498374],\n",
       "       [ -70798.84665131,    8605.45498374, 1455636.98094312]])"
      ]
     },
     "execution_count": 26,
     "metadata": {},
     "output_type": "execute_result"
    }
   ],
   "source": [
    "cov"
   ]
  },
  {
   "cell_type": "markdown",
   "id": "7373b0ef-5cf5-4296-ba13-206a8d81ac8a",
   "metadata": {},
   "source": [
    "This is incorrect, the values are very large, and the data has huge variance. \n",
    "\n",
    "\n",
    "If we assume the vectors have their correct errors we get"
   ]
  },
  {
   "cell_type": "code",
   "execution_count": 29,
   "id": "45ae5bf4-b770-4f7e-8dec-ddbfe0b2f085",
   "metadata": {},
   "outputs": [],
   "source": [
    "cov = (X - X.mean(axis=0)/err[:, None]**2).T.dot((X - X.mean(axis=0)/err[:, None]**2))/X.shape[0]"
   ]
  },
  {
   "cell_type": "code",
   "execution_count": 30,
   "id": "28ce8a38-a6ad-4f55-a5c0-295c77ec9282",
   "metadata": {},
   "outputs": [
    {
     "data": {
      "text/plain": [
       "array([[282.64852642, 295.53200061, 441.72290515],\n",
       "       [295.53200061, 309.00441942, 461.85829911],\n",
       "       [441.72290515, 461.85829911, 690.34329881]])"
      ]
     },
     "execution_count": 30,
     "metadata": {},
     "output_type": "execute_result"
    }
   ],
   "source": [
    "cov"
   ]
  },
  {
   "cell_type": "markdown",
   "id": "53747b7b-278e-4589-8c72-a3aea56bb2bd",
   "metadata": {},
   "source": [
    "This is much better behaved and reflects the covariance of the data much more accurately."
   ]
  },
  {
   "cell_type": "code",
   "execution_count": null,
   "id": "712fcaba-6203-47f8-a00c-ec5f963b498c",
   "metadata": {},
   "outputs": [],
   "source": []
  }
 ],
 "metadata": {
  "kernelspec": {
   "display_name": "Python 3 (ipykernel)",
   "language": "python",
   "name": "python3"
  },
  "language_info": {
   "codemirror_mode": {
    "name": "ipython",
    "version": 3
   },
   "file_extension": ".py",
   "mimetype": "text/x-python",
   "name": "python",
   "nbconvert_exporter": "python",
   "pygments_lexer": "ipython3",
   "version": "3.9.13"
  }
 },
 "nbformat": 4,
 "nbformat_minor": 5
}
